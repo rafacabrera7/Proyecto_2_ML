{
 "cells": [
  {
   "cell_type": "markdown",
   "metadata": {},
   "source": [
    "<table>\n",
    "    <tr>\n",
    "        <td><img src=\"macc.jpg\" width=\"400\"/></td>\n",
    "        <td>&nbsp;</td>\n",
    "        <td>\n",
    "            <h1 style=\"color:blue;text-align:left\">Aprendizaje Automático de Maquina: Proyecto 2</h1></td>\n",
    "        <td>\n",
    "            <table><tr>\n",
    "            <tp><p style=\"font-size:150%;text-align:center\">Red Neuronal para Clasificar Vocales en Audio</p></tp>\n",
    "                <tp><p style=\"font-size:100%;text-align:center\">Rafael Cabrera </p></tp>\n",
    "                <tp><p style=\"font-size:100%;text-align:center\">Oscar Velasco </p></tp>\n",
    "            </tr></table>\n",
    "        </td>\n",
    "    </tr>\n",
    "</table>\n",
    "\n",
    "---\n",
    "\n",
    "08 de Mayo de 2022"
   ]
  },
  {
   "cell_type": "markdown",
   "metadata": {
    "cell_id": "6d52274e-c810-4ce1-ae14-3c0d9aaed5bd",
    "deepnote_cell_height": 923.9666748046875,
    "deepnote_cell_type": "markdown"
   },
   "source": [
    "# Proyecto II\n",
    "\n",
    "El objetivo es generar una red neuronal que pueda reconocer que vocal ha pronunciado una persona.\n",
    "\n",
    "Para la realización de este proyecto deben:\n",
    "\n",
    "1. Crear una base de datos con señales de personas diciendo las diferentes vocales. Tenga en cuenta las sigueintes consideraciones:\n",
    "    * Una red aprende con base en la información que le proporcionemos, asi que al crear la base de datos tenga en cuenta todas las posibilidades de como se pueden mencionar esas vocales. Además la base de datos debe contener diferentes muestras de diferentes personas, incluyendo niños, niñas, mujeres y hombres. El objetivo es generalizar, no memorizar patrones, para esto debemos darle suficiente información a la red.\n",
    "    * Una señal de voz puede tener entre 8000 y 40000 mmuestras por segundo de grabación. Esto es bastante para ser utilizado como entrada en la red. recuerde que entre mayor dimensionalidad en los datos de entrada, mayor será la complejidad de la red necesaria. Para disminuir la complejidad pueden usar la densidad espectral de potencia (PSD) utilizando un número fijo de bins frecuenciales. La PSD representa la distribucion en frecuencia de la potencia de la señal.   \n",
    "2. Definir las arquitecturas de red que debe probar.\n",
    "3. Escoger la red que mejor se desempeñe.\n",
    "4. Evaluar el rendimiento de la red.\n",
    "\n",
    "Tenga en cuenta que todo el procedimiento debe ser lo mas amigable para probar. Es decir se debe poder probar con cualquier señal, se ingresa la señal de voz y el programa debería indicar que vocal se pronunció.\n",
    "\n",
    "Deben contestar las siguientes preguntas:\n",
    "\n",
    "1. ¿Qué puede concluir del comportamiento de la red y los datos proporcionados?\n",
    "2. ¿Qué criterio utilizó para seleccionar la arquitectura de la red?\n",
    "3. ¿Tiene la red el comportamiento esperado?, si no es así, ¿A qué cree que se debe esto?\n",
    "4. ¿Qué le mejoraria al modelo que usted diseño?, ¿Cómo implementaría esas mejoras?\n",
    "\n",
    "## Qué se debe entregar:\n",
    "\n",
    "1. La base de datos generada.\n",
    "2. Un notebook de Jupyter donde presentan todo el pipeline para el entrenamiento de la red. Cada parte debe ser explicada.\n",
    "3. El notebook debe incluir una función que permita ingresar una muestra de entrada y se proporcione la salida, sin mas pasos intermedios. Por lo tanto en esta función se debe tener en cuenta el acondicionamiento de los datos, antes de ser introducidos en la red neuronal par arealizar las predicciones.\n",
    "4. El notebook debe incluir las respuestas a las preguntas planteadas."
   ]
  },
  {
   "cell_type": "markdown",
   "metadata": {},
   "source": [
    "## Cargar los Audios de las Vocales"
   ]
  },
  {
   "cell_type": "code",
   "execution_count": 1,
   "metadata": {
    "cell_id": "00001-3b27fab6-c558-4d73-a4fa-21c339bdf22e",
    "deepnote_cell_height": 65.83332824707031,
    "deepnote_cell_type": "code"
   },
   "outputs": [],
   "source": [
    "import os\n",
    "import collections as cll\n",
    "import python_speech_features as psf\n",
    "import scipy.io.wavfile as wav\n",
    "import pandas as pd\n",
    "import keras as kr\n",
    "import matplotlib.pyplot as plt\n",
    "import seaborn as sns\n",
    "import numpy as np\n",
    "import librosa as lbr\n",
    "import time as tm"
   ]
  },
  {
   "cell_type": "code",
   "execution_count": 2,
   "metadata": {},
   "outputs": [
    {
     "data": {
      "text/plain": [
       "1685"
      ]
     },
     "execution_count": 2,
     "metadata": {},
     "output_type": "execute_result"
    }
   ],
   "source": [
    "folder = 'new_vocals/'\n",
    "files = sorted(os.listdir(folder))\n",
    "len(files)"
   ]
  },
  {
   "cell_type": "code",
   "execution_count": 3,
   "metadata": {},
   "outputs": [
    {
     "name": "stdout",
     "output_type": "stream",
     "text": [
      "{'a': 341, 'e': 341, 'i': 336, 'o': 340, 'u': 327}\n"
     ]
    },
    {
     "data": {
      "text/plain": [
       "1685"
      ]
     },
     "execution_count": 3,
     "metadata": {},
     "output_type": "execute_result"
    }
   ],
   "source": [
    "begin = []\n",
    "for i in files:\n",
    "    begin.append(i[0])\n",
    "count = dict(cll.Counter(begin))\n",
    "print(count)\n",
    "sum(count.values())"
   ]
  },
  {
   "cell_type": "markdown",
   "metadata": {},
   "source": [
    "## Extraer Características de los Audios"
   ]
  },
  {
   "cell_type": "code",
   "execution_count": 4,
   "metadata": {},
   "outputs": [
    {
     "name": "stdout",
     "output_type": "stream",
     "text": [
      "Time Execution: 465.9425320625305\n"
     ]
    }
   ],
   "source": [
    "registers = []\n",
    "classes = {'a':0, 'e':1, 'i':2, 'o':3, 'u':4}\n",
    "t1 = tm.time()\n",
    "for i in files:\n",
    "    rate, sig = wav.read(folder + i)\n",
    "    mfcc_feat = psf.mfcc(sig, rate, nfft=1200)\n",
    "    y, sr = lbr.load(folder + i)\n",
    "    spec_cent = np.mean(lbr.feature.spectral_centroid(y=y, sr=sr)[0])\n",
    "    spec_bw = np.mean(lbr.feature.spectral_bandwidth(y=y, sr=sr)[0])\n",
    "    rolloff = np.mean(lbr.feature.spectral_rolloff(y=y, sr=sr)[0])\n",
    "    zcr = np.mean(lbr.feature.zero_crossing_rate(y)[0])\n",
    "    # register = [i] + list(mfcc_feat[0]) + [i[0], classes[i[0]]]\n",
    "    aux = [spec_cent, spec_bw, rolloff, zcr]\n",
    "    register = [i] + list(np.mean(mfcc_feat, 0)) + aux + [i[0], classes[i[0]]]\n",
    "    registers.append(register)\n",
    "    # print(i, mfcc_feat.shape)\n",
    "t2 = tm.time()\n",
    "print('Time Execution:', t2 - t1)"
   ]
  },
  {
   "cell_type": "code",
   "execution_count": 5,
   "metadata": {
    "scrolled": false
   },
   "outputs": [
    {
     "data": {
      "text/html": [
       "<div>\n",
       "<style scoped>\n",
       "    .dataframe tbody tr th:only-of-type {\n",
       "        vertical-align: middle;\n",
       "    }\n",
       "\n",
       "    .dataframe tbody tr th {\n",
       "        vertical-align: top;\n",
       "    }\n",
       "\n",
       "    .dataframe thead th {\n",
       "        text-align: right;\n",
       "    }\n",
       "</style>\n",
       "<table border=\"1\" class=\"dataframe\">\n",
       "  <thead>\n",
       "    <tr style=\"text-align: right;\">\n",
       "      <th></th>\n",
       "      <th>name</th>\n",
       "      <th>coef1</th>\n",
       "      <th>coef2</th>\n",
       "      <th>coef3</th>\n",
       "      <th>coef4</th>\n",
       "      <th>coef5</th>\n",
       "      <th>coef6</th>\n",
       "      <th>coef7</th>\n",
       "      <th>coef8</th>\n",
       "      <th>coef9</th>\n",
       "      <th>coef10</th>\n",
       "      <th>coef11</th>\n",
       "      <th>coef12</th>\n",
       "      <th>coef13</th>\n",
       "      <th>spec_cent</th>\n",
       "      <th>spec_bw</th>\n",
       "      <th>rolloff</th>\n",
       "      <th>zcr</th>\n",
       "      <th>vocal</th>\n",
       "      <th>class</th>\n",
       "    </tr>\n",
       "  </thead>\n",
       "  <tbody>\n",
       "    <tr>\n",
       "      <th>0</th>\n",
       "      <td>a1.wav</td>\n",
       "      <td>17.037942</td>\n",
       "      <td>17.679548</td>\n",
       "      <td>-17.678985</td>\n",
       "      <td>-2.140438</td>\n",
       "      <td>-17.723112</td>\n",
       "      <td>1.968608</td>\n",
       "      <td>-21.521891</td>\n",
       "      <td>-12.153522</td>\n",
       "      <td>-5.120405</td>\n",
       "      <td>-8.816086</td>\n",
       "      <td>-10.497291</td>\n",
       "      <td>1.582235</td>\n",
       "      <td>1.030568</td>\n",
       "      <td>1349.064787</td>\n",
       "      <td>1579.104290</td>\n",
       "      <td>2411.718750</td>\n",
       "      <td>0.061951</td>\n",
       "      <td>a</td>\n",
       "      <td>0</td>\n",
       "    </tr>\n",
       "    <tr>\n",
       "      <th>1</th>\n",
       "      <td>a10.wav</td>\n",
       "      <td>16.229338</td>\n",
       "      <td>19.061145</td>\n",
       "      <td>-6.987500</td>\n",
       "      <td>-4.283071</td>\n",
       "      <td>-14.064322</td>\n",
       "      <td>1.233451</td>\n",
       "      <td>-10.365662</td>\n",
       "      <td>-0.194640</td>\n",
       "      <td>-3.359466</td>\n",
       "      <td>5.180771</td>\n",
       "      <td>0.878571</td>\n",
       "      <td>3.480624</td>\n",
       "      <td>-4.588597</td>\n",
       "      <td>1024.858613</td>\n",
       "      <td>1345.754477</td>\n",
       "      <td>1716.159163</td>\n",
       "      <td>0.046698</td>\n",
       "      <td>a</td>\n",
       "      <td>0</td>\n",
       "    </tr>\n",
       "    <tr>\n",
       "      <th>2</th>\n",
       "      <td>a100.wav</td>\n",
       "      <td>19.190223</td>\n",
       "      <td>21.771804</td>\n",
       "      <td>-15.487817</td>\n",
       "      <td>-6.730023</td>\n",
       "      <td>-38.332168</td>\n",
       "      <td>-21.505178</td>\n",
       "      <td>-14.591654</td>\n",
       "      <td>-2.385162</td>\n",
       "      <td>-2.112266</td>\n",
       "      <td>10.727446</td>\n",
       "      <td>-2.392905</td>\n",
       "      <td>0.443476</td>\n",
       "      <td>-14.989165</td>\n",
       "      <td>1253.011244</td>\n",
       "      <td>1381.918029</td>\n",
       "      <td>1687.145354</td>\n",
       "      <td>0.063374</td>\n",
       "      <td>a</td>\n",
       "      <td>0</td>\n",
       "    </tr>\n",
       "    <tr>\n",
       "      <th>3</th>\n",
       "      <td>a101.wav</td>\n",
       "      <td>18.910462</td>\n",
       "      <td>21.575383</td>\n",
       "      <td>-24.013718</td>\n",
       "      <td>2.539285</td>\n",
       "      <td>-16.751548</td>\n",
       "      <td>-20.514427</td>\n",
       "      <td>-38.704705</td>\n",
       "      <td>13.243430</td>\n",
       "      <td>-3.598240</td>\n",
       "      <td>-16.279016</td>\n",
       "      <td>2.075196</td>\n",
       "      <td>6.607306</td>\n",
       "      <td>4.263353</td>\n",
       "      <td>1489.310659</td>\n",
       "      <td>1585.633737</td>\n",
       "      <td>3355.511944</td>\n",
       "      <td>0.058363</td>\n",
       "      <td>a</td>\n",
       "      <td>0</td>\n",
       "    </tr>\n",
       "    <tr>\n",
       "      <th>4</th>\n",
       "      <td>a102.wav</td>\n",
       "      <td>18.649902</td>\n",
       "      <td>17.706865</td>\n",
       "      <td>-21.297615</td>\n",
       "      <td>-0.860014</td>\n",
       "      <td>-29.449949</td>\n",
       "      <td>-30.176527</td>\n",
       "      <td>-18.438649</td>\n",
       "      <td>17.727833</td>\n",
       "      <td>6.315242</td>\n",
       "      <td>-5.177124</td>\n",
       "      <td>-8.093378</td>\n",
       "      <td>-11.677008</td>\n",
       "      <td>12.831736</td>\n",
       "      <td>1439.562051</td>\n",
       "      <td>1553.834796</td>\n",
       "      <td>2463.398438</td>\n",
       "      <td>0.077734</td>\n",
       "      <td>a</td>\n",
       "      <td>0</td>\n",
       "    </tr>\n",
       "  </tbody>\n",
       "</table>\n",
       "</div>"
      ],
      "text/plain": [
       "       name      coef1      coef2      coef3     coef4      coef5      coef6  \\\n",
       "0    a1.wav  17.037942  17.679548 -17.678985 -2.140438 -17.723112   1.968608   \n",
       "1   a10.wav  16.229338  19.061145  -6.987500 -4.283071 -14.064322   1.233451   \n",
       "2  a100.wav  19.190223  21.771804 -15.487817 -6.730023 -38.332168 -21.505178   \n",
       "3  a101.wav  18.910462  21.575383 -24.013718  2.539285 -16.751548 -20.514427   \n",
       "4  a102.wav  18.649902  17.706865 -21.297615 -0.860014 -29.449949 -30.176527   \n",
       "\n",
       "       coef7      coef8     coef9     coef10     coef11     coef12     coef13  \\\n",
       "0 -21.521891 -12.153522 -5.120405  -8.816086 -10.497291   1.582235   1.030568   \n",
       "1 -10.365662  -0.194640 -3.359466   5.180771   0.878571   3.480624  -4.588597   \n",
       "2 -14.591654  -2.385162 -2.112266  10.727446  -2.392905   0.443476 -14.989165   \n",
       "3 -38.704705  13.243430 -3.598240 -16.279016   2.075196   6.607306   4.263353   \n",
       "4 -18.438649  17.727833  6.315242  -5.177124  -8.093378 -11.677008  12.831736   \n",
       "\n",
       "     spec_cent      spec_bw      rolloff       zcr vocal  class  \n",
       "0  1349.064787  1579.104290  2411.718750  0.061951     a      0  \n",
       "1  1024.858613  1345.754477  1716.159163  0.046698     a      0  \n",
       "2  1253.011244  1381.918029  1687.145354  0.063374     a      0  \n",
       "3  1489.310659  1585.633737  3355.511944  0.058363     a      0  \n",
       "4  1439.562051  1553.834796  2463.398438  0.077734     a      0  "
      ]
     },
     "execution_count": 5,
     "metadata": {},
     "output_type": "execute_result"
    }
   ],
   "source": [
    "coefs = [f'coef{i}' for i in range(1, 14)]\n",
    "others = ['spec_cent', 'spec_bw', 'rolloff', 'zcr']\n",
    "names = ['name'] + coefs + others + ['vocal', 'class']\n",
    "data = pd.DataFrame(data=registers, columns=names)\n",
    "data.head()"
   ]
  },
  {
   "cell_type": "code",
   "execution_count": 6,
   "metadata": {
    "scrolled": true
   },
   "outputs": [
    {
     "data": {
      "image/png": "[encoded data removed]",
      "text/plain": [
       "<Figure size 432x288 with 1 Axes>"
      ]
     },
     "metadata": {
      "needs_background": "light"
     },
     "output_type": "display_data"
    }
   ],
   "source": [
    "colors = {'a':'blue', 'e':'red', 'i':'yellow', 'o':'green', 'u':'magenta'}\n",
    "plt.scatter(data['coef4'], data['coef5'], color=[colors[i] for i in data['vocal']])\n",
    "plt.grid()"
   ]
  },
  {
   "cell_type": "markdown",
   "metadata": {},
   "source": [
    "## Crear Red Neuronal para Clasificación"
   ]
  },
  {
   "cell_type": "code",
   "execution_count": 7,
   "metadata": {},
   "outputs": [],
   "source": [
    "network1 = kr.models.Sequential()\n",
    "network1.add(kr.layers.Dense(200, activation='relu', input_dim=13))\n",
    "network1.add(kr.layers.Dense(100,activation='relu'))\n",
    "network1.add(kr.layers.Dense(20,activation='relu'))\n",
    "# network1.add(kr.layers.Dense(20,activation='relu'))\n",
    "network1.add(kr.layers.Dense(5,activation='sigmoid'))\n",
    "network1.compile(optimizer = 'rmsprop',\n",
    "                loss='categorical_crossentropy',\n",
    "                metrics=['accuracy'])"
   ]
  },
  {
   "cell_type": "code",
   "execution_count": 8,
   "metadata": {},
   "outputs": [],
   "source": [
    "network2 = kr.models.Sequential()\n",
    "network2.add(kr.layers.Dense(200, activation='relu', input_dim=17))\n",
    "network2.add(kr.layers.Dense(100,activation='relu'))\n",
    "network2.add(kr.layers.Dense(20,activation='relu'))\n",
    "# network2.add(kr.layers.Dense(20,activation='relu'))\n",
    "network2.add(kr.layers.Dense(5,activation='sigmoid'))\n",
    "network2.compile(optimizer = 'rmsprop',\n",
    "                loss='categorical_crossentropy',\n",
    "                metrics=['accuracy'])"
   ]
  },
  {
   "cell_type": "code",
   "execution_count": 9,
   "metadata": {},
   "outputs": [],
   "source": [
    "from sklearn.model_selection import train_test_split\n",
    "X = data.iloc[:, 1:18]\n",
    "Y = data['class']\n",
    "X_train, X_test, y_train, y_test = train_test_split(X, Y, test_size=0.25)"
   ]
  },
  {
   "cell_type": "code",
   "execution_count": 10,
   "metadata": {},
   "outputs": [],
   "source": [
    "from tensorflow.keras.utils import to_categorical\n",
    "train_labels = to_categorical(y_train)\n",
    "test_labels = to_categorical(y_test)"
   ]
  },
  {
   "cell_type": "code",
   "execution_count": 11,
   "metadata": {
    "scrolled": true
   },
   "outputs": [
    {
     "name": "stdout",
     "output_type": "stream",
     "text": [
      "Epoch 1/100\n",
      "9/9 [==============================] - 1s 4ms/step - loss: 1.5485 - accuracy: 0.6010\n",
      "Epoch 2/100\n",
      "9/9 [==============================] - 0s 3ms/step - loss: 0.4161 - accuracy: 0.8393\n",
      "Epoch 3/100\n",
      "9/9 [==============================] - 0s 3ms/step - loss: 0.3008 - accuracy: 0.8876\n",
      "Epoch 4/100\n",
      "9/9 [==============================] - 0s 4ms/step - loss: 0.3861 - accuracy: 0.8519\n",
      "Epoch 5/100\n",
      "9/9 [==============================] - 0s 4ms/step - loss: 0.2357 - accuracy: 0.9137\n",
      "Epoch 6/100\n",
      "9/9 [==============================] - 0s 5ms/step - loss: 0.2259 - accuracy: 0.9184\n",
      "Epoch 7/100\n",
      "9/9 [==============================] - 0s 4ms/step - loss: 0.2653 - accuracy: 0.8923\n",
      "Epoch 8/100\n",
      "9/9 [==============================] - 0s 4ms/step - loss: 0.2513 - accuracy: 0.9026\n",
      "Epoch 9/100\n",
      "9/9 [==============================] - 0s 4ms/step - loss: 0.2236 - accuracy: 0.9192\n",
      "Epoch 10/100\n",
      "9/9 [==============================] - 0s 3ms/step - loss: 0.1626 - accuracy: 0.9477\n",
      "Epoch 11/100\n",
      "9/9 [==============================] - 0s 4ms/step - loss: 0.1776 - accuracy: 0.9272\n",
      "Epoch 12/100\n",
      "9/9 [==============================] - 0s 4ms/step - loss: 0.1921 - accuracy: 0.9256\n",
      "Epoch 13/100\n",
      "9/9 [==============================] - 0s 4ms/step - loss: 0.1688 - accuracy: 0.9382\n",
      "Epoch 14/100\n",
      "9/9 [==============================] - 0s 3ms/step - loss: 0.1485 - accuracy: 0.9422\n",
      "Epoch 15/100\n",
      "9/9 [==============================] - 0s 4ms/step - loss: 0.1787 - accuracy: 0.9311\n",
      "Epoch 16/100\n",
      "9/9 [==============================] - 0s 4ms/step - loss: 0.1476 - accuracy: 0.9438\n",
      "Epoch 17/100\n",
      "9/9 [==============================] - 0s 4ms/step - loss: 0.1277 - accuracy: 0.9517\n",
      "Epoch 18/100\n",
      "9/9 [==============================] - 0s 3ms/step - loss: 0.1929 - accuracy: 0.9256\n",
      "Epoch 19/100\n",
      "9/9 [==============================] - 0s 3ms/step - loss: 0.1198 - accuracy: 0.9533\n",
      "Epoch 20/100\n",
      "9/9 [==============================] - 0s 3ms/step - loss: 0.1414 - accuracy: 0.9422\n",
      "Epoch 21/100\n",
      "9/9 [==============================] - 0s 3ms/step - loss: 0.1306 - accuracy: 0.9406\n",
      "Epoch 22/100\n",
      "9/9 [==============================] - 0s 3ms/step - loss: 0.1202 - accuracy: 0.9517\n",
      "Epoch 23/100\n",
      "9/9 [==============================] - 0s 3ms/step - loss: 0.1354 - accuracy: 0.9501\n",
      "Epoch 24/100\n",
      "9/9 [==============================] - 0s 3ms/step - loss: 0.0821 - accuracy: 0.9723\n",
      "Epoch 25/100\n",
      "9/9 [==============================] - 0s 5ms/step - loss: 0.0967 - accuracy: 0.9652\n",
      "Epoch 26/100\n",
      "9/9 [==============================] - 0s 6ms/step - loss: 0.1315 - accuracy: 0.9438\n",
      "Epoch 27/100\n",
      "9/9 [==============================] - 0s 3ms/step - loss: 0.0939 - accuracy: 0.9675\n",
      "Epoch 28/100\n",
      "9/9 [==============================] - 0s 4ms/step - loss: 0.0703 - accuracy: 0.9778\n",
      "Epoch 29/100\n",
      "9/9 [==============================] - 0s 3ms/step - loss: 0.0949 - accuracy: 0.9644\n",
      "Epoch 30/100\n",
      "9/9 [==============================] - 0s 4ms/step - loss: 0.1375 - accuracy: 0.9525\n",
      "Epoch 31/100\n",
      "9/9 [==============================] - 0s 4ms/step - loss: 0.0639 - accuracy: 0.9826\n",
      "Epoch 32/100\n",
      "9/9 [==============================] - 0s 4ms/step - loss: 0.0774 - accuracy: 0.9691\n",
      "Epoch 33/100\n",
      "9/9 [==============================] - 0s 4ms/step - loss: 0.0835 - accuracy: 0.9675\n",
      "Epoch 34/100\n",
      "9/9 [==============================] - 0s 3ms/step - loss: 0.0835 - accuracy: 0.9652\n",
      "Epoch 35/100\n",
      "9/9 [==============================] - 0s 3ms/step - loss: 0.0523 - accuracy: 0.9865\n",
      "Epoch 36/100\n",
      "9/9 [==============================] - 0s 3ms/step - loss: 0.0641 - accuracy: 0.9786\n",
      "Epoch 37/100\n",
      "9/9 [==============================] - 0s 3ms/step - loss: 0.0828 - accuracy: 0.9699\n",
      "Epoch 38/100\n",
      "9/9 [==============================] - 0s 3ms/step - loss: 0.0651 - accuracy: 0.9810\n",
      "Epoch 39/100\n",
      "9/9 [==============================] - 0s 3ms/step - loss: 0.0524 - accuracy: 0.9842\n",
      "Epoch 40/100\n",
      "9/9 [==============================] - 0s 4ms/step - loss: 0.0524 - accuracy: 0.9842\n",
      "Epoch 41/100\n",
      "9/9 [==============================] - 0s 4ms/step - loss: 0.0762 - accuracy: 0.9652\n",
      "Epoch 42/100\n",
      "9/9 [==============================] - 0s 4ms/step - loss: 0.0443 - accuracy: 0.9897\n",
      "Epoch 43/100\n",
      "9/9 [==============================] - 0s 3ms/step - loss: 0.0541 - accuracy: 0.9810\n",
      "Epoch 44/100\n",
      "9/9 [==============================] - 0s 3ms/step - loss: 0.0611 - accuracy: 0.9770\n",
      "Epoch 45/100\n",
      "9/9 [==============================] - 0s 4ms/step - loss: 0.0462 - accuracy: 0.9834\n",
      "Epoch 46/100\n",
      "9/9 [==============================] - 0s 4ms/step - loss: 0.0487 - accuracy: 0.9818\n",
      "Epoch 47/100\n",
      "9/9 [==============================] - 0s 4ms/step - loss: 0.0579 - accuracy: 0.9865\n",
      "Epoch 48/100\n",
      "9/9 [==============================] - 0s 4ms/step - loss: 0.0300 - accuracy: 0.9945\n",
      "Epoch 49/100\n",
      "9/9 [==============================] - 0s 4ms/step - loss: 0.0572 - accuracy: 0.9865\n",
      "Epoch 50/100\n",
      "9/9 [==============================] - 0s 5ms/step - loss: 0.0463 - accuracy: 0.9786\n",
      "Epoch 51/100\n",
      "9/9 [==============================] - 0s 3ms/step - loss: 0.0267 - accuracy: 0.9952\n",
      "Epoch 52/100\n",
      "9/9 [==============================] - 0s 3ms/step - loss: 0.0501 - accuracy: 0.9826\n",
      "Epoch 53/100\n",
      "9/9 [==============================] - 0s 10ms/step - loss: 0.0513 - accuracy: 0.9826\n",
      "Epoch 54/100\n",
      "9/9 [==============================] - 0s 4ms/step - loss: 0.0247 - accuracy: 0.9952\n",
      "Epoch 55/100\n",
      "9/9 [==============================] - 0s 4ms/step - loss: 0.0315 - accuracy: 0.9889\n",
      "Epoch 56/100\n",
      "9/9 [==============================] - 0s 4ms/step - loss: 0.0435 - accuracy: 0.9857\n",
      "Epoch 57/100\n",
      "9/9 [==============================] - 0s 4ms/step - loss: 0.0213 - accuracy: 0.9945\n",
      "Epoch 58/100\n",
      "9/9 [==============================] - 0s 4ms/step - loss: 0.0475 - accuracy: 0.9850\n",
      "Epoch 59/100\n",
      "9/9 [==============================] - 0s 3ms/step - loss: 0.0216 - accuracy: 0.9952\n",
      "Epoch 60/100\n",
      "9/9 [==============================] - 0s 4ms/step - loss: 0.0159 - accuracy: 0.9976\n",
      "Epoch 61/100\n",
      "9/9 [==============================] - 0s 5ms/step - loss: 0.0297 - accuracy: 0.9913\n",
      "Epoch 62/100\n",
      "9/9 [==============================] - 0s 4ms/step - loss: 0.0310 - accuracy: 0.9929\n",
      "Epoch 63/100\n",
      "9/9 [==============================] - 0s 5ms/step - loss: 0.0547 - accuracy: 0.9850\n",
      "Epoch 64/100\n",
      "9/9 [==============================] - 0s 3ms/step - loss: 0.0128 - accuracy: 0.9984\n",
      "Epoch 65/100\n",
      "9/9 [==============================] - 0s 3ms/step - loss: 0.0151 - accuracy: 0.9976\n",
      "Epoch 66/100\n",
      "9/9 [==============================] - 0s 4ms/step - loss: 0.0553 - accuracy: 0.9794\n",
      "Epoch 67/100\n",
      "9/9 [==============================] - 0s 5ms/step - loss: 0.0283 - accuracy: 0.9929\n",
      "Epoch 68/100\n",
      "9/9 [==============================] - 0s 3ms/step - loss: 0.0115 - accuracy: 0.9992\n",
      "Epoch 69/100\n",
      "9/9 [==============================] - 0s 4ms/step - loss: 0.0093 - accuracy: 0.9992\n",
      "Epoch 70/100\n",
      "9/9 [==============================] - 0s 4ms/step - loss: 0.0281 - accuracy: 0.9905\n",
      "Epoch 71/100\n",
      "9/9 [==============================] - 0s 4ms/step - loss: 0.0202 - accuracy: 0.9960\n",
      "Epoch 72/100\n",
      "9/9 [==============================] - 0s 3ms/step - loss: 0.0166 - accuracy: 0.9960\n",
      "Epoch 73/100\n",
      "9/9 [==============================] - 0s 3ms/step - loss: 0.0082 - accuracy: 1.0000\n",
      "Epoch 74/100\n",
      "9/9 [==============================] - 0s 4ms/step - loss: 0.0508 - accuracy: 0.9850\n",
      "Epoch 75/100\n",
      "9/9 [==============================] - 0s 4ms/step - loss: 0.0231 - accuracy: 0.9937\n",
      "Epoch 76/100\n",
      "9/9 [==============================] - 0s 3ms/step - loss: 0.0071 - accuracy: 1.0000\n",
      "Epoch 77/100\n",
      "9/9 [==============================] - 0s 3ms/step - loss: 0.0067 - accuracy: 1.0000\n",
      "Epoch 78/100\n",
      "9/9 [==============================] - 0s 4ms/step - loss: 0.0636 - accuracy: 0.9755\n",
      "Epoch 79/100\n",
      "9/9 [==============================] - 0s 4ms/step - loss: 0.0071 - accuracy: 0.9992\n",
      "Epoch 80/100\n",
      "9/9 [==============================] - 0s 3ms/step - loss: 0.0052 - accuracy: 1.0000\n",
      "Epoch 81/100\n",
      "9/9 [==============================] - 0s 3ms/step - loss: 0.0073 - accuracy: 0.9992\n",
      "Epoch 82/100\n",
      "9/9 [==============================] - 0s 4ms/step - loss: 0.0170 - accuracy: 0.9960\n",
      "Epoch 83/100\n",
      "9/9 [==============================] - 0s 4ms/step - loss: 0.0466 - accuracy: 0.9810\n",
      "Epoch 84/100\n"
     ]
    },
    {
     "name": "stdout",
     "output_type": "stream",
     "text": [
      "9/9 [==============================] - 0s 4ms/step - loss: 0.0072 - accuracy: 1.0000\n",
      "Epoch 85/100\n",
      "9/9 [==============================] - 0s 3ms/step - loss: 0.0046 - accuracy: 1.0000\n",
      "Epoch 86/100\n",
      "9/9 [==============================] - 0s 3ms/step - loss: 0.0044 - accuracy: 1.0000\n",
      "Epoch 87/100\n",
      "9/9 [==============================] - 0s 4ms/step - loss: 0.0662 - accuracy: 0.9818\n",
      "Epoch 88/100\n",
      "9/9 [==============================] - 0s 4ms/step - loss: 0.0063 - accuracy: 1.0000\n",
      "Epoch 89/100\n",
      "9/9 [==============================] - 0s 3ms/step - loss: 0.0047 - accuracy: 0.9992\n",
      "Epoch 90/100\n",
      "9/9 [==============================] - 0s 3ms/step - loss: 0.0088 - accuracy: 0.9984\n",
      "Epoch 91/100\n",
      "9/9 [==============================] - 0s 4ms/step - loss: 0.0096 - accuracy: 0.9984\n",
      "Epoch 92/100\n",
      "9/9 [==============================] - 0s 3ms/step - loss: 0.0366 - accuracy: 0.9905\n",
      "Epoch 93/100\n",
      "9/9 [==============================] - 0s 3ms/step - loss: 0.0078 - accuracy: 0.9960\n",
      "Epoch 94/100\n",
      "9/9 [==============================] - 0s 4ms/step - loss: 0.0029 - accuracy: 1.0000\n",
      "Epoch 95/100\n",
      "9/9 [==============================] - 0s 3ms/step - loss: 0.0417 - accuracy: 0.9889\n",
      "Epoch 96/100\n",
      "9/9 [==============================] - 0s 3ms/step - loss: 0.0314 - accuracy: 0.9889\n",
      "Epoch 97/100\n",
      "9/9 [==============================] - 0s 4ms/step - loss: 0.0031 - accuracy: 1.0000\n",
      "Epoch 98/100\n",
      "9/9 [==============================] - 0s 4ms/step - loss: 0.0025 - accuracy: 1.0000\n",
      "Epoch 99/100\n",
      "9/9 [==============================] - 0s 4ms/step - loss: 0.0029 - accuracy: 0.9992\n",
      "Epoch 100/100\n",
      "9/9 [==============================] - 0s 3ms/step - loss: 0.0107 - accuracy: 0.9976\n"
     ]
    },
    {
     "data": {
      "text/plain": [
       "<keras.callbacks.History at 0x7f86845654f0>"
      ]
     },
     "execution_count": 11,
     "metadata": {},
     "output_type": "execute_result"
    }
   ],
   "source": [
    "network1.fit(X_train.iloc[:, :13], train_labels, epochs=100, batch_size=150)"
   ]
  },
  {
   "cell_type": "code",
   "execution_count": 12,
   "metadata": {
    "scrolled": true
   },
   "outputs": [
    {
     "name": "stdout",
     "output_type": "stream",
     "text": [
      "Epoch 1/100\n",
      "9/9 [==============================] - 1s 4ms/step - loss: 130.7207 - accuracy: 0.2700\n",
      "Epoch 2/100\n",
      "9/9 [==============================] - 0s 3ms/step - loss: 52.0322 - accuracy: 0.3990\n",
      "Epoch 3/100\n",
      "9/9 [==============================] - 0s 3ms/step - loss: 52.3635 - accuracy: 0.3737\n",
      "Epoch 4/100\n",
      "9/9 [==============================] - 0s 3ms/step - loss: 49.2835 - accuracy: 0.3484\n",
      "Epoch 5/100\n",
      "9/9 [==============================] - 0s 4ms/step - loss: 42.6383 - accuracy: 0.3927\n",
      "Epoch 6/100\n",
      "9/9 [==============================] - 0s 4ms/step - loss: 40.7834 - accuracy: 0.4529\n",
      "Epoch 7/100\n",
      "9/9 [==============================] - 0s 4ms/step - loss: 36.4504 - accuracy: 0.4268\n",
      "Epoch 8/100\n",
      "9/9 [==============================] - 0s 3ms/step - loss: 45.2645 - accuracy: 0.3626\n",
      "Epoch 9/100\n",
      "9/9 [==============================] - 0s 3ms/step - loss: 30.1546 - accuracy: 0.5123\n",
      "Epoch 10/100\n",
      "9/9 [==============================] - 0s 4ms/step - loss: 35.6585 - accuracy: 0.4355\n",
      "Epoch 11/100\n",
      "9/9 [==============================] - 0s 3ms/step - loss: 26.5737 - accuracy: 0.4679\n",
      "Epoch 12/100\n",
      "9/9 [==============================] - 0s 3ms/step - loss: 31.3334 - accuracy: 0.4648\n",
      "Epoch 13/100\n",
      "9/9 [==============================] - 0s 3ms/step - loss: 27.5514 - accuracy: 0.4418\n",
      "Epoch 14/100\n",
      "9/9 [==============================] - 0s 3ms/step - loss: 28.3026 - accuracy: 0.4980\n",
      "Epoch 15/100\n",
      "9/9 [==============================] - 0s 3ms/step - loss: 29.2328 - accuracy: 0.4711\n",
      "Epoch 16/100\n",
      "9/9 [==============================] - 0s 3ms/step - loss: 22.0432 - accuracy: 0.5131\n",
      "Epoch 17/100\n",
      "9/9 [==============================] - 0s 4ms/step - loss: 23.4133 - accuracy: 0.5511\n",
      "Epoch 18/100\n",
      "9/9 [==============================] - 0s 3ms/step - loss: 25.6944 - accuracy: 0.4656\n",
      "Epoch 19/100\n",
      "9/9 [==============================] - 0s 3ms/step - loss: 21.5816 - accuracy: 0.5352\n",
      "Epoch 20/100\n",
      "9/9 [==============================] - 0s 4ms/step - loss: 17.0444 - accuracy: 0.5028\n",
      "Epoch 21/100\n",
      "9/9 [==============================] - 0s 4ms/step - loss: 15.9917 - accuracy: 0.5439\n",
      "Epoch 22/100\n",
      "9/9 [==============================] - 0s 4ms/step - loss: 17.8790 - accuracy: 0.5321\n",
      "Epoch 23/100\n",
      "9/9 [==============================] - 0s 4ms/step - loss: 12.8914 - accuracy: 0.6049\n",
      "Epoch 24/100\n",
      "9/9 [==============================] - 0s 3ms/step - loss: 20.6417 - accuracy: 0.4766\n",
      "Epoch 25/100\n",
      "9/9 [==============================] - 0s 3ms/step - loss: 11.0834 - accuracy: 0.5740\n",
      "Epoch 26/100\n",
      "9/9 [==============================] - 0s 4ms/step - loss: 15.0178 - accuracy: 0.5194\n",
      "Epoch 27/100\n",
      "9/9 [==============================] - 0s 3ms/step - loss: 11.9070 - accuracy: 0.5503\n",
      "Epoch 28/100\n",
      "9/9 [==============================] - 0s 3ms/step - loss: 15.1622 - accuracy: 0.5447\n",
      "Epoch 29/100\n",
      "9/9 [==============================] - 0s 13ms/step - loss: 13.3697 - accuracy: 0.5677\n",
      "Epoch 30/100\n",
      "9/9 [==============================] - 0s 4ms/step - loss: 10.1007 - accuracy: 0.5922\n",
      "Epoch 31/100\n",
      "9/9 [==============================] - 0s 4ms/step - loss: 10.5746 - accuracy: 0.5471\n",
      "Epoch 32/100\n",
      "9/9 [==============================] - 0s 4ms/step - loss: 10.6527 - accuracy: 0.5946\n",
      "Epoch 33/100\n",
      "9/9 [==============================] - 0s 3ms/step - loss: 11.2046 - accuracy: 0.5859\n",
      "Epoch 34/100\n",
      "9/9 [==============================] - 0s 3ms/step - loss: 11.5977 - accuracy: 0.5709\n",
      "Epoch 35/100\n",
      "9/9 [==============================] - 0s 4ms/step - loss: 10.8228 - accuracy: 0.6073\n",
      "Epoch 36/100\n",
      "9/9 [==============================] - 0s 4ms/step - loss: 8.5361 - accuracy: 0.6073\n",
      "Epoch 37/100\n",
      "9/9 [==============================] - 0s 3ms/step - loss: 7.9367 - accuracy: 0.6397\n",
      "Epoch 38/100\n",
      "9/9 [==============================] - 0s 4ms/step - loss: 7.9271 - accuracy: 0.6239\n",
      "Epoch 39/100\n",
      "9/9 [==============================] - 0s 3ms/step - loss: 10.6395 - accuracy: 0.5819\n",
      "Epoch 40/100\n",
      "9/9 [==============================] - 0s 4ms/step - loss: 7.6611 - accuracy: 0.6390\n",
      "Epoch 41/100\n",
      "9/9 [==============================] - 0s 3ms/step - loss: 7.1331 - accuracy: 0.6627\n",
      "Epoch 42/100\n",
      "9/9 [==============================] - 0s 3ms/step - loss: 8.3324 - accuracy: 0.6366\n",
      "Epoch 43/100\n",
      "9/9 [==============================] - 0s 3ms/step - loss: 5.5413 - accuracy: 0.6754\n",
      "Epoch 44/100\n",
      "9/9 [==============================] - 0s 3ms/step - loss: 6.7997 - accuracy: 0.6540\n",
      "Epoch 45/100\n",
      "9/9 [==============================] - 0s 3ms/step - loss: 6.8835 - accuracy: 0.6833\n",
      "Epoch 46/100\n",
      "9/9 [==============================] - 0s 4ms/step - loss: 8.3997 - accuracy: 0.6192\n",
      "Epoch 47/100\n",
      "9/9 [==============================] - 0s 4ms/step - loss: 5.5011 - accuracy: 0.6983\n",
      "Epoch 48/100\n",
      "9/9 [==============================] - 0s 4ms/step - loss: 6.4785 - accuracy: 0.6532\n",
      "Epoch 49/100\n",
      "9/9 [==============================] - 0s 4ms/step - loss: 6.6275 - accuracy: 0.6667\n",
      "Epoch 50/100\n",
      "9/9 [==============================] - 0s 3ms/step - loss: 4.6310 - accuracy: 0.6952\n",
      "Epoch 51/100\n",
      "9/9 [==============================] - 0s 3ms/step - loss: 7.1002 - accuracy: 0.6572\n",
      "Epoch 52/100\n",
      "9/9 [==============================] - 0s 4ms/step - loss: 3.9043 - accuracy: 0.7229\n",
      "Epoch 53/100\n",
      "9/9 [==============================] - 0s 4ms/step - loss: 6.1683 - accuracy: 0.6516\n",
      "Epoch 54/100\n",
      "9/9 [==============================] - 0s 3ms/step - loss: 5.5689 - accuracy: 0.6928\n",
      "Epoch 55/100\n",
      "9/9 [==============================] - 0s 4ms/step - loss: 4.5038 - accuracy: 0.6975\n",
      "Epoch 56/100\n",
      "9/9 [==============================] - 0s 4ms/step - loss: 4.6601 - accuracy: 0.7086\n",
      "Epoch 57/100\n",
      "9/9 [==============================] - 0s 4ms/step - loss: 5.9161 - accuracy: 0.6611\n",
      "Epoch 58/100\n",
      "9/9 [==============================] - 0s 3ms/step - loss: 2.9664 - accuracy: 0.7427\n",
      "Epoch 59/100\n",
      "9/9 [==============================] - 0s 3ms/step - loss: 4.4635 - accuracy: 0.7055\n",
      "Epoch 60/100\n",
      "9/9 [==============================] - 0s 4ms/step - loss: 4.5626 - accuracy: 0.6896\n",
      "Epoch 61/100\n",
      "9/9 [==============================] - 0s 4ms/step - loss: 3.8345 - accuracy: 0.7356\n",
      "Epoch 62/100\n",
      "9/9 [==============================] - 0s 3ms/step - loss: 5.2677 - accuracy: 0.6865\n",
      "Epoch 63/100\n",
      "9/9 [==============================] - 0s 4ms/step - loss: 2.9379 - accuracy: 0.7260\n",
      "Epoch 64/100\n",
      "9/9 [==============================] - 0s 5ms/step - loss: 4.2603 - accuracy: 0.6770\n",
      "Epoch 65/100\n",
      "9/9 [==============================] - 0s 4ms/step - loss: 3.7957 - accuracy: 0.7181\n",
      "Epoch 66/100\n",
      "9/9 [==============================] - 0s 5ms/step - loss: 3.3604 - accuracy: 0.7403\n",
      "Epoch 67/100\n",
      "9/9 [==============================] - 0s 4ms/step - loss: 4.0511 - accuracy: 0.6896\n",
      "Epoch 68/100\n",
      "9/9 [==============================] - 0s 3ms/step - loss: 3.3027 - accuracy: 0.7268\n",
      "Epoch 69/100\n",
      "9/9 [==============================] - 0s 4ms/step - loss: 2.0417 - accuracy: 0.7886\n",
      "Epoch 70/100\n",
      "9/9 [==============================] - 0s 3ms/step - loss: 3.6760 - accuracy: 0.7443\n",
      "Epoch 71/100\n",
      "9/9 [==============================] - 0s 3ms/step - loss: 0.8795 - accuracy: 0.8203\n",
      "Epoch 72/100\n",
      "9/9 [==============================] - 0s 3ms/step - loss: 4.6342 - accuracy: 0.6342\n",
      "Epoch 73/100\n",
      "9/9 [==============================] - 0s 4ms/step - loss: 2.9542 - accuracy: 0.7506\n",
      "Epoch 74/100\n",
      "9/9 [==============================] - 0s 3ms/step - loss: 2.1117 - accuracy: 0.7411\n",
      "Epoch 75/100\n",
      "9/9 [==============================] - 0s 3ms/step - loss: 2.6782 - accuracy: 0.7229\n",
      "Epoch 76/100\n",
      "9/9 [==============================] - 0s 3ms/step - loss: 3.1378 - accuracy: 0.7292\n",
      "Epoch 77/100\n",
      "9/9 [==============================] - 0s 3ms/step - loss: 2.3996 - accuracy: 0.7189\n",
      "Epoch 78/100\n",
      "9/9 [==============================] - 0s 4ms/step - loss: 2.0342 - accuracy: 0.7498\n",
      "Epoch 79/100\n",
      "9/9 [==============================] - 0s 3ms/step - loss: 1.3604 - accuracy: 0.7490\n",
      "Epoch 80/100\n",
      "9/9 [==============================] - 0s 3ms/step - loss: 1.4336 - accuracy: 0.7292\n",
      "Epoch 81/100\n",
      "9/9 [==============================] - 0s 3ms/step - loss: 1.5934 - accuracy: 0.7094\n",
      "Epoch 82/100\n",
      "9/9 [==============================] - 0s 5ms/step - loss: 1.2655 - accuracy: 0.7363\n",
      "Epoch 83/100\n",
      "9/9 [==============================] - 0s 5ms/step - loss: 1.3340 - accuracy: 0.7213\n",
      "Epoch 84/100\n"
     ]
    },
    {
     "name": "stdout",
     "output_type": "stream",
     "text": [
      "9/9 [==============================] - 0s 3ms/step - loss: 2.7056 - accuracy: 0.6247\n",
      "Epoch 85/100\n",
      "9/9 [==============================] - 0s 3ms/step - loss: 1.2212 - accuracy: 0.7458\n",
      "Epoch 86/100\n",
      "9/9 [==============================] - 0s 3ms/step - loss: 1.8072 - accuracy: 0.6904\n",
      "Epoch 87/100\n",
      "9/9 [==============================] - 0s 3ms/step - loss: 0.9489 - accuracy: 0.7862\n",
      "Epoch 88/100\n",
      "9/9 [==============================] - 0s 4ms/step - loss: 1.3071 - accuracy: 0.7292\n",
      "Epoch 89/100\n",
      "9/9 [==============================] - 0s 4ms/step - loss: 1.1039 - accuracy: 0.7371\n",
      "Epoch 90/100\n",
      "9/9 [==============================] - 0s 4ms/step - loss: 1.1320 - accuracy: 0.7039\n",
      "Epoch 91/100\n",
      "9/9 [==============================] - 0s 3ms/step - loss: 0.8854 - accuracy: 0.7332\n",
      "Epoch 92/100\n",
      "9/9 [==============================] - 0s 3ms/step - loss: 1.3925 - accuracy: 0.6793\n",
      "Epoch 93/100\n",
      "9/9 [==============================] - 0s 4ms/step - loss: 1.0114 - accuracy: 0.7102\n",
      "Epoch 94/100\n",
      "9/9 [==============================] - 0s 4ms/step - loss: 0.6134 - accuracy: 0.7926\n",
      "Epoch 95/100\n",
      "9/9 [==============================] - 0s 4ms/step - loss: 1.2463 - accuracy: 0.6991\n",
      "Epoch 96/100\n",
      "9/9 [==============================] - 0s 3ms/step - loss: 0.9396 - accuracy: 0.7197\n",
      "Epoch 97/100\n",
      "9/9 [==============================] - 0s 4ms/step - loss: 0.9670 - accuracy: 0.7348\n",
      "Epoch 98/100\n",
      "9/9 [==============================] - 0s 4ms/step - loss: 1.2384 - accuracy: 0.6825\n",
      "Epoch 99/100\n",
      "9/9 [==============================] - 0s 5ms/step - loss: 1.3096 - accuracy: 0.6801\n",
      "Epoch 100/100\n",
      "9/9 [==============================] - 0s 3ms/step - loss: 0.5021 - accuracy: 0.7989\n"
     ]
    },
    {
     "data": {
      "text/plain": [
       "<keras.callbacks.History at 0x7f86842fc940>"
      ]
     },
     "execution_count": 12,
     "metadata": {},
     "output_type": "execute_result"
    }
   ],
   "source": [
    "network2.fit(X_train.iloc[:, :17], train_labels, epochs=100, batch_size=150)"
   ]
  },
  {
   "cell_type": "code",
   "execution_count": 13,
   "metadata": {
    "scrolled": true
   },
   "outputs": [
    {
     "name": "stdout",
     "output_type": "stream",
     "text": [
      "14/14 [==============================] - 0s 2ms/step - loss: 0.4093 - accuracy: 0.8981\n",
      "test_acc: 0.8981042504310608\n"
     ]
    }
   ],
   "source": [
    "test_loss1, test_acc1 = network1.evaluate(X_test.iloc[:, :13], test_labels)\n",
    "print('test_acc:', test_acc1)"
   ]
  },
  {
   "cell_type": "code",
   "execution_count": 14,
   "metadata": {},
   "outputs": [
    {
     "name": "stdout",
     "output_type": "stream",
     "text": [
      "14/14 [==============================] - 0s 2ms/step - loss: 0.6036 - accuracy: 0.7583\n",
      "test_acc: 0.758293867111206\n"
     ]
    }
   ],
   "source": [
    "test_loss2, test_acc2 = network2.evaluate(X_test.iloc[:, :17], test_labels)\n",
    "print('test_acc:', test_acc2)"
   ]
  },
  {
   "cell_type": "code",
   "execution_count": 15,
   "metadata": {},
   "outputs": [
    {
     "data": {
      "text/plain": [
       "{0: 'a', 1: 'e', 2: 'i', 3: 'o', 4: 'u'}"
      ]
     },
     "execution_count": 15,
     "metadata": {},
     "output_type": "execute_result"
    }
   ],
   "source": [
    "classes_rev = {classes[i]:i for i in classes}\n",
    "classes_rev"
   ]
  },
  {
   "cell_type": "code",
   "execution_count": 16,
   "metadata": {},
   "outputs": [
    {
     "name": "stdout",
     "output_type": "stream",
     "text": [
      "['u', 'a', 'u', 'o', 'e', 'u', 'u', 'o', 'o', 'e', 'u', 'e', 'e', 'i', 'o', 'o', 'i', 'o', 'e', 'a', 'a', 'e', 'e', 'u', 'u', 'o', 'o', 'i', 'e', 'u', 'e', 'u', 'u', 'o', 'a', 'u', 'e', 'o', 'i', 'i', 'o', 'a', 'e', 'e', 'i', 'a', 'a', 'o', 'i', 'u', 'e', 'e', 'o', 'e', 'i', 'o', 'u', 'e', 'i', 'i', 'e', 'e', 'o', 'o', 'e', 'e', 'u', 'a', 'o', 'u', 'i', 'a', 'u', 'o', 'i', 'i', 'o', 'e', 'i', 'u', 'a', 'o', 'a', 'e', 'i', 'a', 'i', 'a', 'i', 'a', 'o', 'a', 'o', 'u', 'i', 'e', 'e', 'u', 'a', 'e', 'a', 'e', 'a', 'u', 'a', 'u', 'a', 'o', 'e', 'i', 'u', 'i', 'o', 'u', 'e', 'i', 'o', 'e', 'o', 'o', 'i', 'a', 'a', 'u', 'o', 'i', 'o', 'e', 'o', 'o', 'o', 'a', 'a', 'u', 'i', 'i', 'o', 'a', 'o', 'a', 'a', 'e', 'i', 'u', 'i', 'a', 'e', 'e', 'a', 'i', 'e', 'o', 'o', 'a', 'u', 'a', 'o', 'a', 'i', 'o', 'i', 'a', 'o', 'a', 'e', 'e', 'e', 'o', 'i', 'e', 'u', 'u', 'e', 'i', 'i', 'u', 'i', 'a', 'a', 'i', 'i', 'a', 'i', 'u', 'u', 'e', 'u', 'e', 'u', 'a', 'a', 'u', 'o', 'o', 'o', 'e', 'o', 'o', 'o', 'e', 'i', 'e', 'e', 'u', 'u', 'i', 'e', 'o', 'a', 'i', 'a', 'a', 'o', 'o', 'a', 'u', 'i', 'e', 'i', 'e', 'a', 'a', 'e', 'u', 'u', 'e', 'i', 'e', 'i', 'u', 'e', 'o', 'i', 'a', 'o', 'i', 'e', 'a', 'o', 'i', 'a', 'i', 'o', 'o', 'u', 'o', 'o', 'a', 'u', 'i', 'a', 'a', 'u', 'i', 'u', 'u', 'o', 'a', 'u', 'o', 'u', 'o', 'o', 'a', 'e', 'i', 'u', 'e', 'e', 'o', 'e', 'a', 'o', 'u', 'i', 'a', 'i', 'u', 'i', 'e', 'i', 'e', 'a', 'i', 'e', 'e', 'o', 'u', 'a', 'i', 'i', 'u', 'u', 'i', 'u', 'i', 'e', 'o', 'a', 'a', 'a', 'e', 'u', 'e', 'u', 'u', 'a', 'e', 'a', 'e', 'e', 'i', 'o', 'a', 'e', 'a', 'u', 'o', 'e', 'e', 'u', 'u', 'o', 'e', 'i', 'a', 'a', 'o', 'o', 'i', 'a', 'u', 'u', 'o', 'u', 'i', 'a', 'o', 'u', 'a', 'a', 'i', 'a', 'u', 'u', 'o', 'u', 'u', 'e', 'o', 'i', 'u', 'o', 'i', 'i', 'a', 'o', 'o', 'o', 'e', 'a', 'i', 'e', 'i', 'e', 'a', 'a', 'a', 'i', 'a', 'e', 'o', 'e', 'o', 'i', 'u', 'o', 'u', 'o', 'i', 'u', 'a', 'i', 'u', 'a', 'o', 'i', 'u', 'e', 'u', 'e', 'u', 'o', 'e', 'a', 'u', 'u', 'u', 'e', 'o', 'o', 'i', 'a', 'a', 'o', 'e', 'u', 'e', 'u', 'a', 'a', 'o', 'i', 'e', 'i', 'u', 'o', 'i', 'i', 'a', 'a', 'e']\n"
     ]
    },
    {
     "data": {
      "text/plain": [
       "{'u': 83, 'a': 86, 'o': 88, 'e': 85, 'i': 80}"
      ]
     },
     "execution_count": 16,
     "metadata": {},
     "output_type": "execute_result"
    }
   ],
   "source": [
    "y_test = [classes_rev[i] for i in list(y_test)]\n",
    "print(y_test)\n",
    "dict(cll.Counter(y_test))"
   ]
  },
  {
   "cell_type": "code",
   "execution_count": 17,
   "metadata": {},
   "outputs": [
    {
     "name": "stdout",
     "output_type": "stream",
     "text": [
      "['u', 'a', 'u', 'o', 'e', 'u', 'u', 'o', 'o', 'e', 'u', 'e', 'e', 'i', 'o', 'o', 'i', 'o', 'e', 'a', 'a', 'e', 'e', 'u', 'u', 'o', 'o', 'i', 'i', 'u', 'e', 'u', 'u', 'u', 'a', 'o', 'e', 'o', 'i', 'i', 'o', 'a', 'e', 'e', 'i', 'a', 'o', 'o', 'i', 'e', 'e', 'e', 'o', 'e', 'i', 'o', 'u', 'e', 'i', 'i', 'e', 'e', 'o', 'o', 'e', 'e', 'u', 'a', 'u', 'o', 'i', 'a', 'u', 'u', 'i', 'i', 'o', 'e', 'i', 'u', 'a', 'o', 'a', 'e', 'i', 'a', 'e', 'a', 'i', 'a', 'o', 'a', 'o', 'o', 'i', 'e', 'e', 'o', 'a', 'e', 'a', 'e', 'a', 'u', 'a', 'u', 'a', 'u', 'e', 'e', 'o', 'i', 'o', 'u', 'e', 'i', 'o', 'e', 'o', 'o', 'i', 'a', 'a', 'u', 'o', 'i', 'o', 'e', 'o', 'o', 'o', 'a', 'a', 'u', 'i', 'i', 'u', 'a', 'o', 'a', 'a', 'e', 'i', 'u', 'i', 'a', 'e', 'e', 'a', 'i', 'e', 'u', 'o', 'a', 'u', 'a', 'o', 'a', 'i', 'a', 'i', 'a', 'o', 'a', 'e', 'e', 'e', 'o', 'i', 'e', 'u', 'u', 'e', 'i', 'i', 'u', 'e', 'a', 'a', 'i', 'i', 'u', 'i', 'u', 'u', 'e', 'u', 'e', 'u', 'a', 'a', 'u', 'o', 'o', 'o', 'e', 'o', 'o', 'o', 'e', 'i', 'e', 'e', 'u', 'u', 'i', 'e', 'o', 'a', 'i', 'a', 'a', 'o', 'a', 'a', 'u', 'i', 'e', 'i', 'e', 'a', 'a', 'e', 'u', 'i', 'e', 'i', 'e', 'i', 'u', 'e', 'o', 'e', 'a', 'u', 'u', 'e', 'a', 'o', 'i', 'a', 'i', 'o', 'o', 'u', 'o', 'o', 'o', 'u', 'i', 'a', 'a', 'u', 'i', 'u', 'u', 'o', 'a', 'u', 'o', 'u', 'o', 'o', 'a', 'e', 'i', 'u', 'i', 'e', 'o', 'e', 'a', 'o', 'u', 'i', 'a', 'i', 'u', 'e', 'i', 'i', 'e', 'a', 'i', 'e', 'e', 'o', 'u', 'a', 'i', 'i', 'u', 'u', 'i', 'u', 'i', 'e', 'o', 'a', 'a', 'a', 'e', 'u', 'e', 'u', 'u', 'a', 'e', 'a', 'e', 'e', 'i', 'o', 'a', 'e', 'a', 'u', 'u', 'e', 'e', 'u', 'u', 'o', 'e', 'i', 'a', 'a', 'o', 'u', 'i', 'a', 'u', 'u', 'u', 'u', 'i', 'a', 'o', 'u', 'a', 'a', 'i', 'u', 'u', 'u', 'o', 'u', 'o', 'e', 'o', 'i', 'u', 'o', 'i', 'i', 'a', 'o', 'o', 'o', 'e', 'a', 'i', 'e', 'i', 'i', 'a', 'a', 'a', 'i', 'a', 'i', 'o', 'u', 'o', 'i', 'u', 'o', 'u', 'o', 'i', 'o', 'a', 'i', 'u', 'a', 'o', 'i', 'u', 'e', 'u', 'e', 'u', 'o', 'e', 'a', 'o', 'u', 'u', 'e', 'o', 'o', 'i', 'a', 'a', 'o', 'e', 'u', 'e', 'u', 'a', 'a', 'o', 'i', 'u', 'i', 'u', 'o', 'i', 'i', 'a', 'a', 'u']\n"
     ]
    },
    {
     "data": {
      "text/plain": [
       "{'u': 89, 'a': 84, 'o': 86, 'e': 83, 'i': 80}"
      ]
     },
     "execution_count": 17,
     "metadata": {},
     "output_type": "execute_result"
    }
   ],
   "source": [
    "y_pred1 = [list(i).index(max(list(i))) for i in network1.predict(X_test.iloc[:, :13])]\n",
    "y_pred1 = [classes_rev[i] for i in list(y_pred1)]\n",
    "print(y_pred1)\n",
    "dict(cll.Counter(y_pred1))"
   ]
  },
  {
   "cell_type": "code",
   "execution_count": 18,
   "metadata": {},
   "outputs": [
    {
     "name": "stdout",
     "output_type": "stream",
     "text": [
      "['u', 'a', 'u', 'o', 'e', 'u', 'u', 'o', 'o', 'e', 'u', 'e', 'e', 'i', 'o', 'o', 'i', 'o', 'e', 'a', 'a', 'e', 'e', 'u', 'u', 'o', 'o', 'i', 'i', 'u', 'e', 'u', 'u', 'u', 'a', 'o', 'e', 'o', 'i', 'i', 'o', 'a', 'e', 'e', 'i', 'a', 'o', 'o', 'i', 'e', 'e', 'e', 'o', 'e', 'i', 'o', 'u', 'e', 'i', 'i', 'e', 'e', 'o', 'o', 'e', 'e', 'u', 'a', 'u', 'o', 'i', 'a', 'u', 'u', 'i', 'i', 'o', 'e', 'i', 'u', 'a', 'o', 'a', 'e', 'i', 'a', 'e', 'a', 'i', 'a', 'o', 'a', 'o', 'o', 'i', 'e', 'e', 'o', 'a', 'e', 'a', 'e', 'a', 'u', 'a', 'u', 'a', 'u', 'e', 'e', 'o', 'i', 'o', 'u', 'e', 'i', 'o', 'e', 'o', 'o', 'i', 'a', 'a', 'u', 'o', 'i', 'o', 'e', 'o', 'o', 'o', 'a', 'a', 'u', 'i', 'i', 'u', 'a', 'o', 'a', 'a', 'e', 'i', 'u', 'i', 'a', 'e', 'e', 'a', 'i', 'e', 'u', 'o', 'a', 'u', 'a', 'o', 'a', 'i', 'a', 'i', 'a', 'o', 'a', 'e', 'e', 'e', 'o', 'i', 'e', 'u', 'u', 'e', 'i', 'i', 'u', 'e', 'a', 'a', 'i', 'i', 'u', 'i', 'u', 'u', 'e', 'u', 'e', 'u', 'a', 'a', 'u', 'o', 'o', 'o', 'e', 'o', 'o', 'o', 'e', 'i', 'e', 'e', 'u', 'u', 'i', 'e', 'o', 'a', 'i', 'a', 'a', 'o', 'a', 'a', 'u', 'i', 'e', 'i', 'e', 'a', 'a', 'e', 'u', 'i', 'e', 'i', 'e', 'i', 'u', 'e', 'o', 'e', 'a', 'u', 'u', 'e', 'a', 'o', 'i', 'a', 'i', 'o', 'o', 'u', 'o', 'o', 'o', 'u', 'i', 'a', 'a', 'u', 'i', 'u', 'u', 'o', 'a', 'u', 'o', 'u', 'o', 'o', 'a', 'e', 'i', 'u', 'i', 'e', 'o', 'e', 'a', 'o', 'u', 'i', 'a', 'i', 'u', 'e', 'i', 'i', 'e', 'a', 'i', 'e', 'e', 'o', 'u', 'a', 'i', 'i', 'u', 'u', 'i', 'u', 'i', 'e', 'o', 'a', 'a', 'a', 'e', 'u', 'e', 'u', 'u', 'a', 'e', 'a', 'e', 'e', 'i', 'o', 'a', 'e', 'a', 'u', 'u', 'e', 'e', 'u', 'u', 'o', 'e', 'i', 'a', 'a', 'o', 'u', 'i', 'a', 'u', 'u', 'u', 'u', 'i', 'a', 'o', 'u', 'a', 'a', 'i', 'u', 'u', 'u', 'o', 'u', 'o', 'e', 'o', 'i', 'u', 'o', 'i', 'i', 'a', 'o', 'o', 'o', 'e', 'a', 'i', 'e', 'i', 'i', 'a', 'a', 'a', 'i', 'a', 'i', 'o', 'u', 'o', 'i', 'u', 'o', 'u', 'o', 'i', 'o', 'a', 'i', 'u', 'a', 'o', 'i', 'u', 'e', 'u', 'e', 'u', 'o', 'e', 'a', 'o', 'u', 'u', 'e', 'o', 'o', 'i', 'a', 'a', 'o', 'e', 'u', 'e', 'u', 'a', 'a', 'o', 'i', 'u', 'i', 'u', 'o', 'i', 'i', 'a', 'a', 'u']\n"
     ]
    },
    {
     "data": {
      "text/plain": [
       "{'o': 128, 'a': 109, 'e': 113, 'i': 46, 'u': 26}"
      ]
     },
     "execution_count": 18,
     "metadata": {},
     "output_type": "execute_result"
    }
   ],
   "source": [
    "y_pred2 = [list(i).index(max(list(i))) for i in network2.predict(X_test.iloc[:, :17])]\n",
    "y_pred2 = [classes_rev[i] for i in list(y_pred2)]\n",
    "print(y_pred1)\n",
    "dict(cll.Counter(y_pred2))"
   ]
  },
  {
   "cell_type": "code",
   "execution_count": 19,
   "metadata": {
    "scrolled": true
   },
   "outputs": [
    {
     "data": {
      "image/png": "[encoded data removed]",
      "text/plain": [
       "<Figure size 432x288 with 2 Axes>"
      ]
     },
     "metadata": {
      "needs_background": "light"
     },
     "output_type": "display_data"
    }
   ],
   "source": [
    "from sklearn.metrics import confusion_matrix, accuracy_score\n",
    "sns.heatmap(confusion_matrix(y_test, y_pred1), annot=True, fmt=\"d\", xticklabels=np.unique(y_test), yticklabels=np.unique(y_pred1));"
   ]
  },
  {
   "cell_type": "code",
   "execution_count": 20,
   "metadata": {},
   "outputs": [
    {
     "data": {
      "image/png": "[encoded data removed]",
      "text/plain": [
       "<Figure size 432x288 with 2 Axes>"
      ]
     },
     "metadata": {
      "needs_background": "light"
     },
     "output_type": "display_data"
    }
   ],
   "source": [
    "sns.heatmap(confusion_matrix(y_test, y_pred2), annot=True, fmt=\"d\", xticklabels=np.unique(y_test), yticklabels=np.unique(y_pred2));"
   ]
  },
  {
   "cell_type": "code",
   "execution_count": 21,
   "metadata": {
    "scrolled": true
   },
   "outputs": [
    {
     "data": {
      "text/plain": [
       "0.9052132701421801"
      ]
     },
     "execution_count": 21,
     "metadata": {},
     "output_type": "execute_result"
    }
   ],
   "source": [
    "accuracy_score(y_test, y_pred1)"
   ]
  },
  {
   "cell_type": "code",
   "execution_count": 22,
   "metadata": {},
   "outputs": [
    {
     "data": {
      "text/plain": [
       "0.7227488151658767"
      ]
     },
     "execution_count": 22,
     "metadata": {},
     "output_type": "execute_result"
    }
   ],
   "source": [
    "accuracy_score(y_test, y_pred2)"
   ]
  },
  {
   "cell_type": "code",
   "execution_count": 23,
   "metadata": {},
   "outputs": [],
   "source": [
    "def clasify(audio, network, n):\n",
    "    rate, sig = wav.read(audio)\n",
    "    mfcc_feat = psf.mfcc(sig, rate, nfft=1200)\n",
    "    y, sr = lbr.load(audio)\n",
    "    spec_cent = np.mean(lbr.feature.spectral_centroid(y=y, sr=sr)[0])\n",
    "    spec_bw = np.mean(lbr.feature.spectral_bandwidth(y=y, sr=sr)[0])\n",
    "    rolloff = np.mean(lbr.feature.spectral_rolloff(y=y, sr=sr)[0])\n",
    "    zcr = np.mean(lbr.feature.zero_crossing_rate(y)[0])\n",
    "    if(n == 13):\n",
    "        register = list(np.mean(mfcc_feat, 0))\n",
    "        coefs = [f'coef{i}' for i in range(1, 14)]\n",
    "    elif(n == 17):\n",
    "        aux = [spec_cent, spec_bw, rolloff, zcr]\n",
    "        others = ['spec_cent', 'spec_bw', 'rolloff', 'zcr']\n",
    "        register = list(np.mean(mfcc_feat, 0)) + aux\n",
    "        coefs = [f'coef{i}' for i in range(1, 14)] + others\n",
    "    data = pd.DataFrame(data=[register], columns=coefs)\n",
    "    pred = list(network.predict(data)[0])\n",
    "    classes_rev = {classes[i]:i for i in classes}\n",
    "    return classes_rev[pred.index(max(pred))]"
   ]
  },
  {
   "cell_type": "code",
   "execution_count": 24,
   "metadata": {},
   "outputs": [
    {
     "data": {
      "text/plain": [
       "'e'"
      ]
     },
     "execution_count": 24,
     "metadata": {},
     "output_type": "execute_result"
    }
   ],
   "source": [
    "clasify(folder + 'e5.wav', network1, 13)"
   ]
  },
  {
   "cell_type": "code",
   "execution_count": 25,
   "metadata": {},
   "outputs": [
    {
     "data": {
      "text/plain": [
       "'u'"
      ]
     },
     "execution_count": 25,
     "metadata": {},
     "output_type": "execute_result"
    }
   ],
   "source": [
    "clasify(folder + 'e5.wav', network2, 17)"
   ]
  },
  {
   "cell_type": "code",
   "execution_count": 26,
   "metadata": {},
   "outputs": [
    {
     "name": "stdout",
     "output_type": "stream",
     "text": [
      "['a', 'e', 'i', 'o', 'u', 'a', 'e', 'i', 'o', 'u']\n",
      "['a', 'e', 'i', 'o', 'u', 'a', 'e', 'i', 'u', 'u']\n",
      "['a', 'a', 'a', 'a', 'a', 'o', 'i', 'i', 'i', 'i']\n"
     ]
    }
   ],
   "source": [
    "news = ['aR', 'eR', 'iR', 'oR', 'uR', 'aO', 'eO', 'iO', 'oO', 'uO']\n",
    "print([i[0] for i in news])\n",
    "print([clasify(folder + i + '.wav', network1, 13) for i in news])\n",
    "print([clasify(folder + i + '.wav', network2, 17) for i in news])"
   ]
  }
 ],
 "metadata": {
  "deepnote": {},
  "deepnote_execution_queue": [],
  "deepnote_notebook_id": "411113b6-490d-4db1-b193-ac0911de40ef",
  "kernelspec": {
   "display_name": "Python 3",
   "language": "python",
   "name": "python3"
  },
  "language_info": {
   "codemirror_mode": {
    "name": "ipython",
    "version": 3
   },
   "file_extension": ".py",
   "mimetype": "text/x-python",
   "name": "python",
   "nbconvert_exporter": "python",
   "pygments_lexer": "ipython3",
   "version": "3.8.10"
  }
 },
 "nbformat": 4,
 "nbformat_minor": 2
}
