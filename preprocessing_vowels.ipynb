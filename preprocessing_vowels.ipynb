{
 "cells": [
  {
   "cell_type": "code",
   "execution_count": 1,
   "metadata": {},
   "outputs": [],
   "source": [
    "import os\n",
    "import collections as cll\n",
    "import shutil as sh"
   ]
  },
  {
   "cell_type": "code",
   "execution_count": 2,
   "metadata": {},
   "outputs": [
    {
     "name": "stdout",
     "output_type": "stream",
     "text": [
      "1675\n"
     ]
    }
   ],
   "source": [
    "folder1 = 'DATASET_OF_VOWELS/'\n",
    "arr = sorted(os.listdir(folder1))\n",
    "print(len(arr))"
   ]
  },
  {
   "cell_type": "code",
   "execution_count": 3,
   "metadata": {},
   "outputs": [
    {
     "name": "stdout",
     "output_type": "stream",
     "text": [
      "{'ha': 241, 'he': 248, 'hi': 237, 'ho': 240, 'hu': 232, 'ma': 98, 'me': 91, 'mi': 97, 'mo': 98, 'mu': 93}\n"
     ]
    }
   ],
   "source": [
    "begin = []\n",
    "for i in arr:\n",
    "    begin.append(i[:2])\n",
    "count = dict(cll.Counter(begin))\n",
    "print(count)"
   ]
  },
  {
   "cell_type": "code",
   "execution_count": 4,
   "metadata": {},
   "outputs": [
    {
     "name": "stdout",
     "output_type": "stream",
     "text": [
      "1675\n"
     ]
    }
   ],
   "source": [
    "news = []\n",
    "a = 0\n",
    "e = 0\n",
    "i = 0\n",
    "o = 0\n",
    "u = 0\n",
    "for j in arr:\n",
    "    if(j[:2] == 'ha' or j[:2] == 'ma'):\n",
    "        a += 1\n",
    "        news.append(f'a{a}.wav')\n",
    "    elif(j[:2] == 'he' or j[:2] == 'me'):\n",
    "        e += 1\n",
    "        news.append(f'e{e}.wav')\n",
    "    elif(j[:2] == 'hi' or j[:2] == 'mi'):\n",
    "        i += 1\n",
    "        news.append(f'i{i}.wav')\n",
    "    elif(j[:2] == 'ho' or j[:2] == 'mo'):\n",
    "        o += 1\n",
    "        news.append(f'o{o}.wav')\n",
    "    elif(j[:2] == 'hu' or j[:2] == 'mu'):\n",
    "        u += 1\n",
    "        news.append(f'u{u}.wav')\n",
    "print(len(news))"
   ]
  },
  {
   "cell_type": "code",
   "execution_count": 5,
   "metadata": {},
   "outputs": [],
   "source": [
    "folder2 = 'new_vocals/'\n",
    "for k in range(len(news)):\n",
    "    sh.copy(folder1 + arr[k], folder2 + news[k])"
   ]
  },
  {
   "cell_type": "code",
   "execution_count": 6,
   "metadata": {},
   "outputs": [
    {
     "name": "stdout",
     "output_type": "stream",
     "text": [
      "True\n",
      "True\n",
      "True\n",
      "True\n",
      "True\n"
     ]
    }
   ],
   "source": [
    "print(a == (count['ha'] + count['ma']))\n",
    "print(e == (count['he'] + count['me']))\n",
    "print(i == (count['hi'] + count['mi']))\n",
    "print(o == (count['ho'] + count['mo']))\n",
    "print(u == (count['hu'] + count['mu']))"
   ]
  },
  {
   "cell_type": "markdown",
   "metadata": {},
   "source": [
    "## Audios Propios"
   ]
  },
  {
   "cell_type": "code",
   "execution_count": 23,
   "metadata": {},
   "outputs": [],
   "source": [
    "from pydub import AudioSegment\n",
    "\n",
    "def convert_ogg_to_wav(song):\n",
    "    orig_song = 'new_vocals/' + song\n",
    "    dest_song = orig_song[:-len(song)] + song[:2] +'.wav'\n",
    "    song = AudioSegment.from_ogg(orig_song)\n",
    "    song.export(dest_song, format=\"wav\")"
   ]
  },
  {
   "cell_type": "code",
   "execution_count": 24,
   "metadata": {},
   "outputs": [],
   "source": [
    "news = ['aR', 'eR', 'iR', 'oR', 'uR', 'aO', 'eO', 'iO', 'oO', 'uO']\n",
    "for i in news:\n",
    "    convert_ogg_to_wav(i + '.ogg')"
   ]
  }
 ],
 "metadata": {
  "kernelspec": {
   "display_name": "Python 3",
   "language": "python",
   "name": "python3"
  },
  "language_info": {
   "codemirror_mode": {
    "name": "ipython",
    "version": 3
   },
   "file_extension": ".py",
   "mimetype": "text/x-python",
   "name": "python",
   "nbconvert_exporter": "python",
   "pygments_lexer": "ipython3",
   "version": "3.8.10"
  }
 },
 "nbformat": 4,
 "nbformat_minor": 4
}
